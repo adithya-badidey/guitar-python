{
 "cells": [
  {
   "cell_type": "code",
   "execution_count": 3,
   "metadata": {},
   "outputs": [],
   "source": [
    "# !pip install sympy\n",
    "# !pip install numpy\n",
    "# !pip install matplotlib"
   ]
  },
  {
   "cell_type": "code",
   "execution_count": 9,
   "metadata": {},
   "outputs": [],
   "source": [
    "from sympy.utilities.iterables import necklaces\n",
    "import numpy as np\n",
    "import matplotlib.pyplot as plt"
   ]
  },
  {
   "cell_type": "code",
   "execution_count": 5,
   "metadata": {},
   "outputs": [],
   "source": [
    "all_chords = list(necklaces(12, 2))\n",
    "all_chords = np.asarray(all_chords[1:])\n",
    "all_chords = np.flip(all_chords, axis=1)"
   ]
  },
  {
   "cell_type": "code",
   "execution_count": 6,
   "metadata": {},
   "outputs": [
    {
     "data": {
      "text/plain": [
       "array([1, 0, 0, 0, 0, 0, 0, 0, 0, 0, 0, 0])"
      ]
     },
     "execution_count": 6,
     "metadata": {},
     "output_type": "execute_result"
    }
   ],
   "source": [
    "all_chords[0]"
   ]
  },
  {
   "cell_type": "code",
   "execution_count": 15,
   "metadata": {},
   "outputs": [
    {
     "name": "stdout",
     "output_type": "stream",
     "text": [
      "     Number of notes | Number of Chords\n",
      "                   1 | 1  \n",
      "                   2 | 6  \n",
      "                   3 | 19 \n",
      "                   4 | 43 \n",
      "                   5 | 66 \n",
      "                   6 | 80 \n",
      "                   7 | 66 \n",
      "                   8 | 43 \n",
      "                   9 | 19 \n",
      "                  10 | 6  \n",
      "                  11 | 1  \n",
      "                  12 | 1  \n"
     ]
    }
   ],
   "source": [
    "num_notes = np.sum(all_chords, axis=1)\n",
    "unique, counts = np.unique(num_notes, return_counts=True)\n",
    "print(f\"{'Number of notes':>20} | Number of Chords\")\n",
    "for i in range(len(unique)):\n",
    "    print(f\"{unique[i]:>20} | {counts[i]:<3}\")"
   ]
  },
  {
   "cell_type": "code",
   "execution_count": 16,
   "metadata": {},
   "outputs": [],
   "source": [
    "## Interval Analysis"
   ]
  },
  {
   "cell_type": "code",
   "execution_count": 56,
   "metadata": {},
   "outputs": [],
   "source": [
    "smallest_step = []\n",
    "for i in all_chords:\n",
    "    note_indices = np.nonzero(i)[0]\n",
    "    # if len(note_indices) == 1:\n",
    "    #     continue\n",
    "    next_indices = np.hstack([note_indices, [12]])[1:]\n",
    "    # print(note_indices)\n",
    "    # print(next_indices)\n",
    "    min_m = np.min(next_indices - note_indices)\n",
    "    smallest_step.append(min_m)\n",
    "\n",
    "smallest_step = np.asarray(smallest_step)"
   ]
  },
  {
   "cell_type": "code",
   "execution_count": 57,
   "metadata": {},
   "outputs": [
    {
     "name": "stdout",
     "output_type": "stream",
     "text": [
      "       Smallest Step | Number of Chords\n",
      "                   1 | 321\n",
      "                   2 | 20 \n",
      "                   3 | 5  \n",
      "                   4 | 2  \n",
      "                   5 | 1  \n",
      "                   6 | 1  \n",
      "                  12 | 1  \n"
     ]
    }
   ],
   "source": [
    "unique, counts = np.unique(smallest_step, return_counts=True)\n",
    "print(f\"{'Smallest Step':>20} | Number of Chords\")\n",
    "for i in range(len(unique)):\n",
    "    print(f\"{unique[i]:>20} | {counts[i]:<3}\")"
   ]
  },
  {
   "cell_type": "code",
   "execution_count": null,
   "metadata": {},
   "outputs": [],
   "source": []
  }
 ],
 "metadata": {
  "kernelspec": {
   "display_name": "env",
   "language": "python",
   "name": "python3"
  },
  "language_info": {
   "codemirror_mode": {
    "name": "ipython",
    "version": 3
   },
   "file_extension": ".py",
   "mimetype": "text/x-python",
   "name": "python",
   "nbconvert_exporter": "python",
   "pygments_lexer": "ipython3",
   "version": "3.10.0 (tags/v3.10.0:b494f59, Oct  4 2021, 19:00:18) [MSC v.1929 64 bit (AMD64)]"
  },
  "orig_nbformat": 4,
  "vscode": {
   "interpreter": {
    "hash": "e41cbd042c80e3ffe6d752b0b7562df9bae24172be3bf58891cc297a7fdf8111"
   }
  }
 },
 "nbformat": 4,
 "nbformat_minor": 2
}
