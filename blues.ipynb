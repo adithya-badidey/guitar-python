{
 "cells": [
  {
   "cell_type": "code",
   "execution_count": 1,
   "metadata": {},
   "outputs": [],
   "source": [
    "%load_ext autoreload\n",
    "%autoreload 2\n",
    "from commons import *"
   ]
  },
  {
   "cell_type": "code",
   "execution_count": 9,
   "metadata": {},
   "outputs": [
    {
     "name": "stdout",
     "output_type": "stream",
     "text": [
      "G A# C C# D F\n"
     ]
    }
   ],
   "source": [
    "bluesmajscale = [0, 3, 5, 6, 7, 10]\n",
    "bluesmaj = NoteSet(bluesmajscale, Note('G2'))\n",
    "print(bluesmaj)"
   ]
  },
  {
   "cell_type": "code",
   "execution_count": 10,
   "metadata": {},
   "outputs": [
    {
     "name": "stdout",
     "output_type": "stream",
     "text": [
      "    █ F   |     |(G)  |     |     | A#  |     | C   | C#  | D   |     |     | F   |     |(G)  |     |     |\n",
      "    █ C   | C#  | D   |     |     | F   |     |(G)  |     |     | A#  |     | C   | C#  | D   |     |     |\n",
      "(G) █     |     | A#  |     | C   | C#  | D   |     |     | F   |     |(G)  |     |     | A#  |     | C   |\n",
      " D  █     |     | F   |     |(G)  |     |     | A#  |     | C   | C#  | D   |     |     | F   |     |(G)  |\n",
      "    █ A#  |     | C   | C#  | D   |     |     | F   |     |(G)  |     |     | A#  |     | C   | C#  | D   |\n",
      "    █ F   |     |(G)  |     |     | A#  |     | C   | C#  | D   |     |     | F   |     |(G)  |     |     |\n",
      "                              •           •                             ••                                \n"
     ]
    }
   ],
   "source": [
    "guitar = Guitar()\n",
    "guitar.printFretboardDiagram(bluesmaj)"
   ]
  },
  {
   "cell_type": "code",
   "execution_count": null,
   "metadata": {},
   "outputs": [],
   "source": []
  }
 ],
 "metadata": {
  "kernelspec": {
   "display_name": "Python 3.10.4 ('generative')",
   "language": "python",
   "name": "python3"
  },
  "language_info": {
   "codemirror_mode": {
    "name": "ipython",
    "version": 3
   },
   "file_extension": ".py",
   "mimetype": "text/x-python",
   "name": "python",
   "nbconvert_exporter": "python",
   "pygments_lexer": "ipython3",
   "version": "3.10.4"
  },
  "orig_nbformat": 4,
  "vscode": {
   "interpreter": {
    "hash": "913be369ae6b339899401f50a82460eb21f829d0c20e99c1dbcb6cdf8935e73f"
   }
  }
 },
 "nbformat": 4,
 "nbformat_minor": 2
}
