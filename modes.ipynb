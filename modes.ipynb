{
 "cells": [
  {
   "cell_type": "code",
   "execution_count": 6,
   "metadata": {},
   "outputs": [],
   "source": [
    "%load_ext autoreload\n",
    "%autoreload 2\n",
    "from commons import *"
   ]
  },
  {
   "cell_type": "code",
   "execution_count": 7,
   "metadata": {},
   "outputs": [
    {
     "name": "stdout",
     "output_type": "stream",
     "text": [
      " E  █ F   | F#  | G   | G#  | A   | A#  | B   | C   | C#  | D   | D#  | E   | F   | F#  | G   | G#  | A   | A#  | B   |\n",
      " B  █ C   | C#  | D   | D#  | E   | F   | F#  | G   | G#  | A   | A#  | B   | C   | C#  | D   | D#  | E   | F   | F#  |\n",
      " G  █ G#  | A   | A#  | B   | C   | C#  | D   | D#  | E   | F   | F#  | G   | G#  | A   | A#  | B   | C   | C#  | D   |\n",
      " D  █ D#  | E   | F   | F#  | G   | G#  | A   | A#  | B   | C   | C#  | D   | D#  | E   | F   | F#  | G   | G#  | A   |\n",
      " A  █ A#  | B   | C   | C#  | D   | D#  | E   | F   | F#  | G   | G#  | A   | A#  | B   | C   | C#  | D   | D#  | E   |\n",
      " E  █ F   | F#  | G   | G#  | A   | A#  | B   | C   | C#  | D   | D#  | E   | F   | F#  | G   | G#  | A   | A#  | B   |\n",
      "                              •           •           •                 ••                •           •           •   \n"
     ]
    }
   ],
   "source": [
    "# Guitarlele tuning\n",
    "# guitar = Guitar(tuning=['A2','D3','G3','C3','E4','A5'])\n",
    "guitar = Guitar()\n",
    "guitar.printFretboardDiagram()"
   ]
  },
  {
   "cell_type": "code",
   "execution_count": 9,
   "metadata": {},
   "outputs": [
    {
     "name": "stdout",
     "output_type": "stream",
     "text": [
      "Unnamed        : [0, 3, 4, 5, 7, 9]\n",
      "Unnamed        : [0, 3, 4, 5, 7, 9]\n",
      "Unnamed        : [0, 3, 4, 5, 7, 9]\n",
      "Unnamed        : [0, 3, 4, 5, 7, 9]\n"
     ]
    }
   ],
   "source": [
    "\n",
    "print(Scale('1,2#,3,4,5,6'))\n",
    "print(Scale('WH,H,H,W,W'))\n",
    "print(Scale([1, 0, 0, 1, 1, 1, 0, 1, 0, 1, 0, 0]))\n",
    "print(Scale([0, 3, 4, 5, 7, 9]))"
   ]
  },
  {
   "cell_type": "code",
   "execution_count": 10,
   "metadata": {},
   "outputs": [
    {
     "name": "stdout",
     "output_type": "stream",
     "text": [
      "C3  D3  E3  F3  G3  A3  B3  \n",
      "D3  E3  F3  G3  A3  B3  C4  \n",
      "E3  F3  G3  A3  B3  C4  D4  \n",
      "F3  G3  A3  B3  C4  D4  E4  \n",
      "G3  A3  B3  C4  D4  E4  F4  \n",
      "A3  B3  C4  D4  E4  F4  G4  \n",
      "B3  C4  D4  E4  F4  G4  A4  \n"
     ]
    }
   ],
   "source": [
    "scales = []\n",
    "\n",
    "# major = Scale([0, 2, 4, 5, 7, 9, 11], name='major')\n",
    "major = Scale(['W', 'W', 'H', 'W', 'W', 'W'], name='ionian')\n",
    "major.addAlias('major')\n",
    "dorian = major.mode(2, name=\"dorian\")\n",
    "phrygian = major.mode(3, name=\"phrygian\")\n",
    "lydian = major.mode(4, name=\"lydian\")\n",
    "mixolydian = major.mode(5, name=\"mixolydian\")\n",
    "aeolian = major.mode(6, name=\"aeolian\")\n",
    "aeolian.addAlias('natural minor')\n",
    "locrian = major.mode(7, name='locrian')\n",
    "\n",
    "major_modes = [\n",
    "    major,\n",
    "    dorian,\n",
    "    phrygian,\n",
    "    lydian,\n",
    "    mixolydian,\n",
    "    aeolian,\n",
    "    locrian\n",
    "]\n",
    "\n",
    "print(NoteSet(major, Note('C3')))\n",
    "print(NoteSet(dorian, Note('D3')))\n",
    "print(NoteSet(phrygian, Note('E3')))\n",
    "print(NoteSet(lydian, Note('F3')))\n",
    "print(NoteSet(mixolydian, Note('G3')))\n",
    "print(NoteSet(aeolian, Note('A3')))\n",
    "print(NoteSet(locrian, Note('B3')))\n"
   ]
  },
  {
   "cell_type": "code",
   "execution_count": null,
   "metadata": {},
   "outputs": [
    {
     "ename": "",
     "evalue": "",
     "output_type": "error",
     "traceback": [
      "\u001b[1;31mRunning cells with 'env' requires ipykernel package.\n",
      "\u001b[1;31mRun the following command to install 'ipykernel' into the Python environment. \n",
      "\u001b[1;31mCommand: 'c:/Users/bmadi/Documents/guitar-python/env/Scripts/python.exe -m pip install ipykernel -U --force-reinstall'"
     ]
    }
   ],
   "source": [
    "\n",
    "# scales['melodic minor'] = [0, 2, 3, 5, 7, 9, 10]\n",
    "# scales['dorian b2'] = mode(scales['melodic minor'], 2)\n",
    "# scales['lydian augmented'] = mode(scales['melodic minor'], 3)\n",
    "# scales['lydian dominant'] = mode(scales['melodic minor'], 4)\n",
    "# scales['aeolian dominant'] = mode(scales['melodic minor'], 5)\n",
    "# scales['half diminished'] = mode(scales['melodic minor'], 6)\n",
    "# scales['altered'] = mode(scales['melodic minor'], 7)\n",
    "# print(NoteSet(scales['melodic minor'], Note('C3')))\n",
    "# print(NoteSet(scales['dorian b2'], Note('D3')))\n",
    "# print(NoteSet(scales['lydian augmented'], Note('D#3')))\n",
    "# print(NoteSet(scales['lydian dominant'], Note('F3')))\n",
    "# print(NoteSet(scales['aeolian dominant'], Note('G3')))\n",
    "# print(NoteSet(scales['half diminished'], Note('A4')))\n",
    "# print(NoteSet(scales['altered'], Note('A#4')))"
   ]
  },
  {
   "cell_type": "code",
   "execution_count": 12,
   "metadata": {},
   "outputs": [
    {
     "name": "stdout",
     "output_type": "stream",
     "text": [
      "C3  D3  D#3 F3  G3  A3  B3  \n",
      "D3  D#3 F3  G3  A3  B3  C4  \n",
      "D#3 F3  G3  A3  B3  C4  D4  \n",
      "F3  G3  A3  B3  C4  D4  D#4 \n",
      "G3  A3  B3  C4  D4  D#4 F4  \n",
      "A3  B3  C4  D4  D#4 F4  G4  \n",
      "B3  C4  D4  D#4 F4  G4  A4  \n",
      "['ionian b3', 'dorian #7']\n",
      "['dorian b2', 'phrygian #6']\n",
      "['lydian #5']\n",
      "['lydian b7', 'mixolydian #4']\n",
      "['mixolydian b6', 'aeolian #3']\n",
      "['aeolian b5', 'locrian #2']\n",
      "['locrian b4']\n"
     ]
    }
   ],
   "source": [
    "\n",
    "\n",
    "mel_minor = Scale(['1', '2', 'b3', '4', '5', '6', '7'])\n",
    "mel_minor.addAlias('ascending melodic minor')\n",
    "\n",
    "mel_minor_modes = [mel_minor.mode(i) for i in range(2, 8)]\n",
    "\n",
    "\n",
    "mel_minor_noteset = NoteSet(mel_minor, Note('C3'))\n",
    "print(mel_minor_noteset)\n",
    "for index, note in enumerate(mel_minor_noteset[1:]):\n",
    "    print(NoteSet(mel_minor_modes[index], note))\n",
    "\n",
    "mel_minor_modes.insert(0, mel_minor)\n",
    "for i in mel_minor_modes:\n",
    "    min_dist = 1000\n",
    "    chosen = None\n",
    "    for j in major_modes:\n",
    "        dist = i.distance(j)\n",
    "        if dist < min_dist:\n",
    "            chosen = [j]\n",
    "            min_dist = dist\n",
    "        elif dist == min_dist:\n",
    "            chosen.append(j)\n",
    "    # print(f\"Closest to [{i}]: {[str(i) for i in chosen]}\")\n",
    "    # print(f\"Dist: {min_dist}\")\n",
    "    names = [i.obtainRelativeName(j) for j in chosen]\n",
    "    print(names)\n",
    "    \n",
    "\n",
    "    "
   ]
  },
  {
   "cell_type": "code",
   "execution_count": 13,
   "metadata": {},
   "outputs": [],
   "source": [
    "\n",
    "# scales['harmonic minor'] = Scale(['1', '2', 'b3', '4', '5', 'b6', '7'])\n",
    "# scales['locrian nat6'] = mode(scales['harmonic minor'], 2)\n",
    "# scales['major #5'] = mode(scales['harmonic minor'], 3)\n",
    "# scales['dorian #4'] = mode(scales['harmonic minor'], 4)\n",
    "# scales['phrygian dominant'] = mode(scales['harmonic minor'], 5)\n",
    "# scales['lydian #2'] = mode(scales['harmonic minor'], 6)\n",
    "# scales['altered dominant bb7'] = mode(scales['harmonic minor'], 7)\n",
    "# print(NoteSet(scales['harmonic minor'], Note('C3')))\n",
    "# print(NoteSet(scales['locrian nat6'], Note('D3')))\n",
    "# print(NoteSet(scales['major #5'], Note('D#3')))\n",
    "# print(NoteSet(scales['dorian #4'], Note('F3')))\n",
    "# print(NoteSet(scales['phrygian dominant'], Note('G3')))\n",
    "# print(NoteSet(scales['lydian #2'], Note('G#3')))\n",
    "# print(NoteSet(scales['altered dominant bb7'], Note('B4')))"
   ]
  },
  {
   "cell_type": "code",
   "execution_count": 14,
   "metadata": {},
   "outputs": [
    {
     "name": "stdout",
     "output_type": "stream",
     "text": [
      "C3  D3  D#3 F3  G3  G#3 B3  \n",
      "D3  D#3 F3  G3  G#3 B3  C4  \n",
      "D#3 F3  G3  G#3 B3  C4  D4  \n",
      "F3  G3  G#3 B3  C4  D4  D#4 \n",
      "G3  G#3 B3  C4  D4  D#4 F4  \n",
      "G#3 B3  C4  D4  D#4 F4  G4  \n",
      "B3  C4  D4  D#4 F4  G4  G#4 \n",
      "Unnamed        : [0, 2, 3, 5, 7, 8, 11] : ['aeolian #7']\n",
      "Unnamed        : [0, 1, 3, 5, 6, 9, 10] : ['locrian #6']\n",
      "Unnamed        : [0, 2, 4, 5, 8, 9, 11] : ['ionian #5']\n",
      "Unnamed        : [0, 2, 3, 6, 7, 9, 10] : ['dorian #4']\n",
      "Unnamed        : [0, 1, 4, 5, 7, 8, 10] : ['phrygian #3']\n",
      "Unnamed        : [0, 3, 4, 6, 7, 9, 11] : ['lydian #2']\n",
      "Unnamed        : [0, 1, 3, 4, 6, 8, 9] : ['locrian b4 b7']\n"
     ]
    }
   ],
   "source": [
    "# scales['harmonic minor'] = [0, 2, 3, 5, 7, 8, 11]\n",
    "\n",
    "\n",
    "har_minor = Scale([0, 2, 3, 5, 7, 8, 11])\n",
    "har_minor.addAlias('melodic minor')\n",
    "\n",
    "har_minor_modes = [har_minor.mode(i) for i in range(2, 8)]\n",
    "\n",
    "har_minor_noteset = NoteSet(har_minor, Note('C3'))\n",
    "print(har_minor_noteset)\n",
    "for index, note in enumerate(har_minor_noteset[1:]):\n",
    "    print(NoteSet(har_minor_modes[index], note))\n",
    "\n",
    "har_minor_modes.insert(0, har_minor)\n",
    "for i in har_minor_modes:\n",
    "    min_dist = 1000\n",
    "    chosen = None\n",
    "    for j in major_modes:\n",
    "        dist = i.distance(j)\n",
    "        if dist < min_dist:\n",
    "            chosen = [j]\n",
    "            min_dist = dist\n",
    "        elif dist == min_dist:\n",
    "            chosen.append(j)\n",
    "    # print(f\"Closest to [{i}]: {[str(i) for i in chosen]}\")\n",
    "    # print(f\"Dist: {min_dist}\")\n",
    "    names = [i.obtainRelativeName(j) for j in chosen]\n",
    "    print(i, \":\", names)\n",
    "    \n"
   ]
  },
  {
   "cell_type": "code",
   "execution_count": null,
   "metadata": {},
   "outputs": [
    {
     "ename": "",
     "evalue": "",
     "output_type": "error",
     "traceback": [
      "\u001b[1;31mRunning cells with 'env' requires ipykernel package.\n",
      "\u001b[1;31mRun the following command to install 'ipykernel' into the Python environment. \n",
      "\u001b[1;31mCommand: 'c:/Users/bmadi/Documents/guitar-python/env/Scripts/python.exe -m pip install ipykernel -U --force-reinstall'"
     ]
    }
   ],
   "source": [
    "# scales['harmonic major'] = [0, 2, 4, 5, 7, 8, 11]\n",
    "# scales['dorian b5'] = mode(scales['harmonic major'], 2)\n",
    "# scales['phrygian b4'] = mode(scales['harmonic major'], 3)\n",
    "# scales['lydian b4'] = mode(scales['harmonic major'], 4)\n",
    "# scales['mixolydian b2'] = mode(scales['harmonic major'], 5)\n",
    "# scales['lydian augmented #2'] = mode(scales['harmonic major'], 6)\n",
    "# scales['locrian bb7'] = mode(scales['harmonic major'], 7)\n",
    "\n",
    "\n",
    "# print(NoteSet(scales['harmonic major'], Note('C3')))\n",
    "# print(NoteSet(scales['dorian b5'], Note('D3')))\n",
    "# print(NoteSet(scales['phrygian b4'], Note('E3')))\n",
    "# print(NoteSet(scales['lydian b4'], Note('F3')))\n",
    "# print(NoteSet(scales['mixolydian b2'], Note('G3')))\n",
    "# print(NoteSet(scales['lydian augmented #2'], Note('G#3')))\n",
    "# print(NoteSet(scales['locrian bb7'], Note('B4')))"
   ]
  },
  {
   "cell_type": "code",
   "execution_count": null,
   "metadata": {},
   "outputs": [
    {
     "ename": "",
     "evalue": "",
     "output_type": "error",
     "traceback": [
      "\u001b[1;31mRunning cells with 'env' requires ipykernel package.\n",
      "\u001b[1;31mRun the following command to install 'ipykernel' into the Python environment. \n",
      "\u001b[1;31mCommand: 'c:/Users/bmadi/Documents/guitar-python/env/Scripts/python.exe -m pip install ipykernel -U --force-reinstall'"
     ]
    }
   ],
   "source": [
    "# scales['diminished'] = [0, 2, 3, 5, 6, 8, 9, 11]\n",
    "# scales['inverse diminished'] = mode(scales['diminished'], 2)\n",
    "\n",
    "# print(NoteSet(scales['diminished'], Note('C3')))\n",
    "# print(NoteSet(scales['inverse diminished'], Note('D3')))\n",
    "# print(NoteSet(scales['diminished'], Note('D#3')))\n",
    "# print(NoteSet(scales['inverse diminished'], Note('F3')))\n",
    "# print(NoteSet(scales['diminished'], Note('F#3')))\n",
    "# print(NoteSet(scales['inverse diminished'], Note('G#3')))\n",
    "# print(NoteSet(scales['diminished'], Note('A4')))\n",
    "# print(NoteSet(scales['inverse diminished'], Note('B4')))"
   ]
  },
  {
   "cell_type": "code",
   "execution_count": null,
   "metadata": {},
   "outputs": [
    {
     "ename": "",
     "evalue": "",
     "output_type": "error",
     "traceback": [
      "\u001b[1;31mRunning cells with 'env' requires ipykernel package.\n",
      "\u001b[1;31mRun the following command to install 'ipykernel' into the Python environment. \n",
      "\u001b[1;31mCommand: 'c:/Users/bmadi/Documents/guitar-python/env/Scripts/python.exe -m pip install ipykernel -U --force-reinstall'"
     ]
    }
   ],
   "source": [
    "# scales['augmented'] = [0, 3, 4, 7, 8, 11]\n",
    "# scales['inverse augmented'] = mode(scales['augmented'], 2)\n",
    "\n",
    "# print(NoteSet(scales['augmented'], Note('C3')))\n",
    "# print(NoteSet(scales['inverse augmented'], Note('D#3')))\n",
    "# print(NoteSet(scales['augmented'], Note('E3')))\n",
    "# print(NoteSet(scales['inverse augmented'], Note('G3')))\n",
    "# print(NoteSet(scales['augmented'], Note('G#3')))\n",
    "# print(NoteSet(scales['inverse augmented'], Note('B4')))"
   ]
  }
 ],
 "metadata": {
  "kernelspec": {
   "display_name": "env",
   "language": "python",
   "name": "python3"
  },
  "language_info": {
   "codemirror_mode": {
    "name": "ipython",
    "version": 3
   },
   "file_extension": ".py",
   "mimetype": "text/x-python",
   "name": "python",
   "nbconvert_exporter": "python",
   "pygments_lexer": "ipython3",
   "version": "3.10.0 (tags/v3.10.0:b494f59, Oct  4 2021, 19:00:18) [MSC v.1929 64 bit (AMD64)]"
  },
  "orig_nbformat": 4,
  "vscode": {
   "interpreter": {
    "hash": "e41cbd042c80e3ffe6d752b0b7562df9bae24172be3bf58891cc297a7fdf8111"
   }
  }
 },
 "nbformat": 4,
 "nbformat_minor": 2
}
