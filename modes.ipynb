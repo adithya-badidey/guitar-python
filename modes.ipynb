{
 "cells": [
  {
   "cell_type": "code",
   "execution_count": 1,
   "metadata": {},
   "outputs": [],
   "source": [
    "%load_ext autoreload\n",
    "%autoreload 2\n",
    "from commons import *"
   ]
  },
  {
   "cell_type": "code",
   "execution_count": 2,
   "metadata": {},
   "outputs": [
    {
     "name": "stdout",
     "output_type": "stream",
     "text": [
      " E  █ F   | F#  | G   | G#  | A   | A#  | B   | C   | C#  | D   | D#  | E   | F   | F#  | G   | G#  | A   | A#  | B   |\n",
      " B  █ C   | C#  | D   | D#  | E   | F   | F#  | G   | G#  | A   | A#  | B   | C   | C#  | D   | D#  | E   | F   | F#  |\n",
      " G  █ G#  | A   | A#  | B   | C   | C#  | D   | D#  | E   | F   | F#  | G   | G#  | A   | A#  | B   | C   | C#  | D   |\n",
      " D  █ D#  | E   | F   | F#  | G   | G#  | A   | A#  | B   | C   | C#  | D   | D#  | E   | F   | F#  | G   | G#  | A   |\n",
      " A  █ A#  | B   | C   | C#  | D   | D#  | E   | F   | F#  | G   | G#  | A   | A#  | B   | C   | C#  | D   | D#  | E   |\n",
      " E  █ F   | F#  | G   | G#  | A   | A#  | B   | C   | C#  | D   | D#  | E   | F   | F#  | G   | G#  | A   | A#  | B   |\n",
      "                              •           •           •                 ••                •           •           •   \n"
     ]
    }
   ],
   "source": [
    "# Guitarlele tuning\n",
    "# guitar = Guitar(tuning=['A2','D3','G3','C3','E4','A5'])\n",
    "guitar = Guitar()\n",
    "guitar.printFretboardDiagram()"
   ]
  },
  {
   "cell_type": "code",
   "execution_count": 73,
   "metadata": {},
   "outputs": [
    {
     "name": "stdout",
     "output_type": "stream",
     "text": [
      "[0, 3, 4, 5, 7, 9]\n",
      "[0, 3, 4, 5, 7, 9]\n"
     ]
    }
   ],
   "source": [
    "natural_scale   = [0, 2, 4, 5, 7, 9, 11]\n",
    "# minor_melodic   = [0, 2, 3, 5, 7, 9, 10]\n",
    "# minor_harmonic  = [0, 2, 3, 5, 7, 8, 11]\n",
    "# major_harmonic  = [0, 2, 3, 5, 7, 8, 11]\n",
    "\n",
    "def parseScaleListWH(notesList):\n",
    "    res = [0]\n",
    "    for i in notesList:\n",
    "        halfs = i.count('H')\n",
    "        fulls = i.count('W')\n",
    "        res.append(res[-1] + halfs + fulls*2)\n",
    "    return res\n",
    "\n",
    "def parseScaleList(notesList, reference):\n",
    "    if 'W' in notesList[0] or 'H' in notesList[0]:\n",
    "        return parseScaleListWH(notesList)\n",
    "\n",
    "    res = []\n",
    "    for i in notesList:\n",
    "        i = i.replace(' ','')\n",
    "        flats = i.count('b')\n",
    "        sharps = i.count('#')\n",
    "        num = int(i.replace('b','').replace('#','')) - 1\n",
    "        res.append(reference[num] - flats + sharps)\n",
    "    res.sort()\n",
    "    return res\n",
    "\n",
    "class Scale:\n",
    "    def __init__(self, progression, reference = natural_scale): #reference is major\n",
    "        if isinstance(progression, list):\n",
    "            if isinstance(progression[0], int):\n",
    "                self.progression = progression\n",
    "            else:\n",
    "                self.progression = parseScaleList(progression, reference)\n",
    "        elif isinstance(progression, str):\n",
    "            self.progression = parseScaleList(progression.split(','), reference)\n",
    "\n",
    "    def __str__(self):\n",
    "        return str(self.progression)\n",
    "\n",
    "    def __getitem__(self, item):\n",
    "        return self.progression[item]\n",
    "    \n",
    "    def __len__(self):\n",
    "        return len(self.progression)\n",
    "\n",
    "    def mode(self, num=1):\n",
    "        assert num > 0 and num <= len(self.progression)\n",
    "        num -= 1\n",
    "        root = self.progression[num]\n",
    "        \n",
    "        return Scale([i - root for i in self.progression[num:]] \\\n",
    "            + [i - root + 12 for i in self.progression[:num]])\n",
    "\n",
    "\n",
    "print(Scale('1,2#,3,4,5,6'))\n",
    "print(Scale('WH,H,H,W,W'))"
   ]
  },
  {
   "cell_type": "code",
   "execution_count": 69,
   "metadata": {},
   "outputs": [
    {
     "name": "stdout",
     "output_type": "stream",
     "text": [
      "C D E F G A B\n",
      "D E F G A B C\n",
      "E F G A B C D\n",
      "F G A B C D E\n",
      "G A B C D E F\n",
      "A B C D E F G\n",
      "B C D E F G A\n"
     ]
    }
   ],
   "source": [
    "scales={}\n",
    "scales['major'] = Scale([0, 2, 4, 5, 7, 9, 11])\n",
    "scales['dorian'] = scales['major'].mode(2)\n",
    "scales['phrygian'] = scales['major'].mode(3)\n",
    "scales['lydian'] = scales['major'].mode(4)\n",
    "scales['mixolydian'] = scales['major'].mode(5)\n",
    "# scales['aeolian'] = \\\n",
    "scales['natural minor'] = scales['major'].mode(6)\n",
    "scales['locrian'] = scales['major'].mode(7)\n",
    "\n",
    "\n",
    "print(NoteSet(scales['major'], Note('C3')))\n",
    "print(NoteSet(scales['dorian'], Note('D3')))\n",
    "print(NoteSet(scales['phrygian'], Note('E3')))\n",
    "print(NoteSet(scales['lydian'], Note('F3')))\n",
    "print(NoteSet(scales['mixolydian'], Note('G3')))\n",
    "print(NoteSet(scales['natural minor'], Note('A4')))\n",
    "print(NoteSet(scales['locrian'], Note('B4')))\n"
   ]
  },
  {
   "cell_type": "code",
   "execution_count": 70,
   "metadata": {},
   "outputs": [
    {
     "name": "stdout",
     "output_type": "stream",
     "text": [
      "C D D# F G A A#\n",
      "D D# F G A A# C\n",
      "D# F G A A# C D\n",
      "F G A A# C D D#\n",
      "G A A# C D D# F\n",
      "A A# C D D# F G\n",
      "A# C D D# F G A\n"
     ]
    }
   ],
   "source": [
    "scales['melodic minor'] = [0, 2, 3, 5, 7, 9, 10]\n",
    "scales['dorian b2'] = mode(scales['melodic minor'], 2)\n",
    "scales['lydian augmented'] = mode(scales['melodic minor'], 3)\n",
    "scales['lydian dominant'] = mode(scales['melodic minor'], 4)\n",
    "scales['aeolian dominant'] = mode(scales['melodic minor'], 5)\n",
    "scales['half diminished'] = mode(scales['melodic minor'], 6)\n",
    "scales['altered'] = mode(scales['melodic minor'], 7)\n",
    "\n",
    "\n",
    "print(NoteSet(scales['melodic minor'], Note('C3')))\n",
    "print(NoteSet(scales['dorian b2'], Note('D3')))\n",
    "print(NoteSet(scales['lydian augmented'], Note('D#3')))\n",
    "print(NoteSet(scales['lydian dominant'], Note('F3')))\n",
    "print(NoteSet(scales['aeolian dominant'], Note('G3')))\n",
    "print(NoteSet(scales['half diminished'], Note('A4')))\n",
    "print(NoteSet(scales['altered'], Note('A#4')))"
   ]
  },
  {
   "cell_type": "code",
   "execution_count": 71,
   "metadata": {},
   "outputs": [
    {
     "name": "stdout",
     "output_type": "stream",
     "text": [
      "C D D# F G G# B\n",
      "D D# F G G# B C\n",
      "D# F G G# B C D\n",
      "F G G# B C D D#\n",
      "G G# B C D D# F\n",
      "G# B C D D# F G\n",
      "B C D D# F G G#\n"
     ]
    }
   ],
   "source": [
    "scales['harmonic minor'] = [0, 2, 3, 5, 7, 8, 11]\n",
    "scales['locrian nat6'] = mode(scales['harmonic minor'], 2)\n",
    "scales['major #5'] = mode(scales['harmonic minor'], 3)\n",
    "scales['dorian #4'] = mode(scales['harmonic minor'], 4)\n",
    "scales['phrygian dominant'] = mode(scales['harmonic minor'], 5)\n",
    "scales['lydian #2'] = mode(scales['harmonic minor'], 6)\n",
    "scales['altered dominant bb7'] = mode(scales['harmonic minor'], 7)\n",
    "\n",
    "\n",
    "print(NoteSet(scales['harmonic minor'], Note('C3')))\n",
    "print(NoteSet(scales['locrian nat6'], Note('D3')))\n",
    "print(NoteSet(scales['major #5'], Note('D#3')))\n",
    "print(NoteSet(scales['dorian #4'], Note('F3')))\n",
    "print(NoteSet(scales['phrygian dominant'], Note('G3')))\n",
    "print(NoteSet(scales['lydian #2'], Note('G#3')))\n",
    "print(NoteSet(scales['altered dominant bb7'], Note('B4')))"
   ]
  },
  {
   "cell_type": "code",
   "execution_count": 72,
   "metadata": {},
   "outputs": [
    {
     "name": "stdout",
     "output_type": "stream",
     "text": [
      "C D E F G G# B\n",
      "D E F G G# B C\n",
      "E F G G# B C D\n",
      "F G G# B C D E\n",
      "G G# B C D E F\n",
      "G# B C D E F G\n",
      "B C D E F G G#\n"
     ]
    }
   ],
   "source": [
    "scales['harmonic major'] = [0, 2, 4, 5, 7, 8, 11]\n",
    "scales['dorian b5'] = mode(scales['harmonic major'], 2)\n",
    "scales['phrygian b4'] = mode(scales['harmonic major'], 3)\n",
    "scales['lydian b4'] = mode(scales['harmonic major'], 4)\n",
    "scales['mixolydian b2'] = mode(scales['harmonic major'], 5)\n",
    "scales['lydian augmented #2'] = mode(scales['harmonic major'], 6)\n",
    "scales['locrian bb7'] = mode(scales['harmonic major'], 7)\n",
    "\n",
    "\n",
    "print(NoteSet(scales['harmonic major'], Note('C3')))\n",
    "print(NoteSet(scales['dorian b5'], Note('D3')))\n",
    "print(NoteSet(scales['phrygian b4'], Note('E3')))\n",
    "print(NoteSet(scales['lydian b4'], Note('F3')))\n",
    "print(NoteSet(scales['mixolydian b2'], Note('G3')))\n",
    "print(NoteSet(scales['lydian augmented #2'], Note('G#3')))\n",
    "print(NoteSet(scales['locrian bb7'], Note('B4')))"
   ]
  },
  {
   "cell_type": "code",
   "execution_count": 57,
   "metadata": {},
   "outputs": [
    {
     "name": "stdout",
     "output_type": "stream",
     "text": [
      "C D D# F F# G# A B\n",
      "D D# F F# G# A B C\n",
      "D# F F# G# A B C D\n",
      "F F# G# A B C D D#\n",
      "F# G# A B C D D# F\n",
      "G# A B C D D# F F#\n",
      "A B C D D# F F# G#\n",
      "B C D D# F F# G# A\n"
     ]
    }
   ],
   "source": [
    "scales['diminished'] = [0, 2, 3, 5, 6, 8, 9, 11]\n",
    "scales['inverse diminished'] = mode(scales['diminished'], 2)\n",
    "\n",
    "print(NoteSet(scales['diminished'], Note('C3')))\n",
    "print(NoteSet(scales['inverse diminished'], Note('D3')))\n",
    "print(NoteSet(scales['diminished'], Note('D#3')))\n",
    "print(NoteSet(scales['inverse diminished'], Note('F3')))\n",
    "print(NoteSet(scales['diminished'], Note('F#3')))\n",
    "print(NoteSet(scales['inverse diminished'], Note('G#3')))\n",
    "print(NoteSet(scales['diminished'], Note('A4')))\n",
    "print(NoteSet(scales['inverse diminished'], Note('B4')))"
   ]
  },
  {
   "cell_type": "code",
   "execution_count": 56,
   "metadata": {},
   "outputs": [
    {
     "name": "stdout",
     "output_type": "stream",
     "text": [
      "C D# E G G# B\n",
      "D# E G G# B C\n",
      "E G G# B C D#\n",
      "G G# B C D# E\n",
      "G# B C D# E G\n",
      "B C D# E G G#\n"
     ]
    }
   ],
   "source": [
    "scales['augmented'] = [0, 3, 4, 7, 8, 11]\n",
    "scales['inverse augmented'] = mode(scales['augmented'], 2)\n",
    "\n",
    "print(NoteSet(scales['augmented'], Note('C3')))\n",
    "print(NoteSet(scales['inverse augmented'], Note('D#3')))\n",
    "print(NoteSet(scales['augmented'], Note('E3')))\n",
    "print(NoteSet(scales['inverse augmented'], Note('G3')))\n",
    "print(NoteSet(scales['augmented'], Note('G#3')))\n",
    "print(NoteSet(scales['inverse augmented'], Note('B4')))"
   ]
  },
  {
   "cell_type": "code",
   "execution_count": null,
   "metadata": {},
   "outputs": [],
   "source": []
  }
 ],
 "metadata": {
  "kernelspec": {
   "display_name": "cs6353",
   "language": "python",
   "name": "python3"
  },
  "language_info": {
   "codemirror_mode": {
    "name": "ipython",
    "version": 3
   },
   "file_extension": ".py",
   "mimetype": "text/x-python",
   "name": "python",
   "nbconvert_exporter": "python",
   "pygments_lexer": "ipython3",
   "version": "3.10.4"
  },
  "orig_nbformat": 4,
  "vscode": {
   "interpreter": {
    "hash": "053076262eca1c129e8de1f50e4cca757048d124747e0297455cf73a7ba2cced"
   }
  }
 },
 "nbformat": 4,
 "nbformat_minor": 2
}
