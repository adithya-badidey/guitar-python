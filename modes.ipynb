{
 "cells": [
  {
   "cell_type": "code",
   "execution_count": 1,
   "metadata": {},
   "outputs": [],
   "source": [
    "%load_ext autoreload\n",
    "%autoreload 2\n",
    "from commons import *"
   ]
  },
  {
   "cell_type": "code",
   "execution_count": 2,
   "metadata": {},
   "outputs": [
    {
     "name": "stdout",
     "output_type": "stream",
     "text": [
      " E  █ F   | F#  | G   | G#  | A   | A#  | B   | C   | C#  | D   | D#  | E   | F   | F#  | G   | G#  | A   | A#  | B   |\n",
      " B  █ C   | C#  | D   | D#  | E   | F   | F#  | G   | G#  | A   | A#  | B   | C   | C#  | D   | D#  | E   | F   | F#  |\n",
      " G  █ G#  | A   | A#  | B   | C   | C#  | D   | D#  | E   | F   | F#  | G   | G#  | A   | A#  | B   | C   | C#  | D   |\n",
      " D  █ D#  | E   | F   | F#  | G   | G#  | A   | A#  | B   | C   | C#  | D   | D#  | E   | F   | F#  | G   | G#  | A   |\n",
      " A  █ A#  | B   | C   | C#  | D   | D#  | E   | F   | F#  | G   | G#  | A   | A#  | B   | C   | C#  | D   | D#  | E   |\n",
      " E  █ F   | F#  | G   | G#  | A   | A#  | B   | C   | C#  | D   | D#  | E   | F   | F#  | G   | G#  | A   | A#  | B   |\n",
      "                              •           •           •                 ••                •           •           •   \n"
     ]
    }
   ],
   "source": [
    "# Guitarlele tuning\n",
    "# guitar = Guitar(tuning=['A2','D3','G3','C3','E4','A5'])\n",
    "guitar = Guitar()\n",
    "guitar.printFretboardDiagram()"
   ]
  },
  {
   "cell_type": "code",
   "execution_count": 67,
   "metadata": {},
   "outputs": [
    {
     "name": "stdout",
     "output_type": "stream",
     "text": [
      "Unnamed        : [0, 3, 4, 5, 7, 9]\n",
      "Unnamed        : [0, 3, 4, 5, 7, 9]\n"
     ]
    }
   ],
   "source": [
    "natural_scale   = [0, 2, 4, 5, 7, 9, 11]\n",
    "# minor_melodic   = [0, 2, 3, 5, 7, 9, 10]\n",
    "# minor_harmonic  = [0, 2, 3, 5, 7, 8, 11]\n",
    "# major_harmonic  = [0, 2, 3, 5, 7, 8, 11]\n",
    "\n",
    "def parseScaleListWH(notesList):\n",
    "    res = [0]\n",
    "    for i in notesList:\n",
    "        halfs = i.count('H')\n",
    "        fulls = i.count('W')\n",
    "        res.append(res[-1] + halfs + fulls*2)\n",
    "    return res\n",
    "\n",
    "def parseScaleList(notesList, reference):\n",
    "    if 'W' in notesList[0] or 'H' in notesList[0]:\n",
    "        return parseScaleListWH(notesList)\n",
    "\n",
    "    res = []\n",
    "    for i in notesList:\n",
    "        i = i.replace(' ','')\n",
    "        flats = i.count('b')\n",
    "        sharps = i.count('#')\n",
    "        num = int(i.replace('b','').replace('#','')) - 1\n",
    "        res.append(reference[num] - flats + sharps)\n",
    "    res.sort()\n",
    "    return res\n",
    "\n",
    "class Scale:\n",
    "    def __init__(self, progression, name=None, reference = natural_scale): #reference is major\n",
    "        if isinstance(progression, list):\n",
    "            if isinstance(progression[0], int):\n",
    "                self.prog = list(progression)\n",
    "            elif isinstance(progression[0], str):\n",
    "                self.prog = parseScaleList(progression, reference)\n",
    "            else:\n",
    "                raise Exception(f\"Unknown dtype for progression[0]: {type(progression[0])}\")\n",
    "        elif isinstance(progression, str):\n",
    "            self.prog = parseScaleList(progression.split(','), reference)\n",
    "        else:\n",
    "            raise Exception(f\"Unknown dtype for progression: {type(progression)}\")\n",
    "        self.name = name\n",
    "        self.aliases = []\n",
    "\n",
    "    def addAlias(self, alias):\n",
    "        self.aliases.append(alias)\n",
    "\n",
    "    def __str__(self):\n",
    "        # prog = [f\"{i:>3}\" for i in self.progression]\n",
    "        name = self.name or \"Unnamed\"\n",
    "        return f\"{name:15}: {self.prog}\"\n",
    "\n",
    "    def __getitem__(self, item):\n",
    "        return self.prog[item]\n",
    "    \n",
    "    def __len__(self):\n",
    "        return len(self.prog)\n",
    "\n",
    "    def mode(self, num=1, name=None):\n",
    "        assert num > 0 and num <= len(self.prog)\n",
    "        num -= 1\n",
    "        root = self.prog[num]\n",
    "        \n",
    "        prog = [i - root for i in self.prog[num:]] \\\n",
    "            + [i - root + 12 for i in self.prog[:num]]\n",
    "        # print(prog)\n",
    "        return Scale(prog, name=name)\n",
    "    \n",
    "    def distance(self, other):\n",
    "        assert len(self) == len(other)\n",
    "        dist = 0\n",
    "        for i in range(len(self)):\n",
    "            if self[i] != other[i]:\n",
    "                dist += 1\n",
    "        return dist\n",
    "\n",
    "    def obtainRelativeName(self, other):\n",
    "        assert len(self) == len(other)\n",
    "        mods = []\n",
    "        for i in range(len(self)):\n",
    "            if self[i] != other[i]:\n",
    "                dist = self[i] - other[i]\n",
    "                if dist < 0:\n",
    "                    mod = 'b' * (-dist)\n",
    "                # elif dist == 0:\n",
    "                #     mod = '♮'\n",
    "                else:\n",
    "                    mod = '#' * dist\n",
    "                mods.append(f\"{mod}{i+1}\")\n",
    "        return other.name + \" \" + \" \".join(mods)\n",
    "\n",
    "\n",
    "print(Scale('1,2#,3,4,5,6'))\n",
    "print(Scale('WH,H,H,W,W'))"
   ]
  },
  {
   "cell_type": "code",
   "execution_count": 70,
   "metadata": {},
   "outputs": [
    {
     "name": "stdout",
     "output_type": "stream",
     "text": [
      "C3  D3  E3  F3  G3  A3  B3  \n",
      "D3  E3  F3  G3  A3  B3  C4  \n",
      "E3  F3  G3  A3  B3  C4  D4  \n",
      "F3  G3  A3  B3  C4  D4  E4  \n",
      "G3  A3  B3  C4  D4  E4  F4  \n",
      "A3  B3  C4  D4  E4  F4  G4  \n",
      "B3  C4  D4  E4  F4  G4  A4  \n"
     ]
    }
   ],
   "source": [
    "scales = []\n",
    "\n",
    "# major = Scale([0, 2, 4, 5, 7, 9, 11], name='major')\n",
    "major = Scale(['W', 'W', 'H', 'W', 'W', 'W'], name='ionian')\n",
    "major.addAlias('major')\n",
    "dorian = major.mode(2, name=\"dorian\")\n",
    "phrygian = major.mode(3, name=\"phrygian\")\n",
    "lydian = major.mode(4, name=\"lydian\")\n",
    "mixolydian = major.mode(5, name=\"mixolydian\")\n",
    "aeolian = major.mode(6, name=\"aeolian\")\n",
    "aeolian.addAlias('natural minor')\n",
    "locrian = major.mode(7, name='locrian')\n",
    "\n",
    "major_modes = [\n",
    "    major,\n",
    "    dorian,\n",
    "    phrygian,\n",
    "    lydian,\n",
    "    mixolydian,\n",
    "    aeolian,\n",
    "    locrian\n",
    "]\n",
    "\n",
    "print(NoteSet(major, Note('C3')))\n",
    "print(NoteSet(dorian, Note('D3')))\n",
    "print(NoteSet(phrygian, Note('E3')))\n",
    "print(NoteSet(lydian, Note('F3')))\n",
    "print(NoteSet(mixolydian, Note('G3')))\n",
    "print(NoteSet(aeolian, Note('A3')))\n",
    "print(NoteSet(locrian, Note('B3')))\n"
   ]
  },
  {
   "cell_type": "code",
   "execution_count": null,
   "metadata": {},
   "outputs": [],
   "source": [
    "\n",
    "# scales['melodic minor'] = [0, 2, 3, 5, 7, 9, 10]\n",
    "# scales['dorian b2'] = mode(scales['melodic minor'], 2)\n",
    "# scales['lydian augmented'] = mode(scales['melodic minor'], 3)\n",
    "# scales['lydian dominant'] = mode(scales['melodic minor'], 4)\n",
    "# scales['aeolian dominant'] = mode(scales['melodic minor'], 5)\n",
    "# scales['half diminished'] = mode(scales['melodic minor'], 6)\n",
    "# scales['altered'] = mode(scales['melodic minor'], 7)\n",
    "# print(NoteSet(scales['melodic minor'], Note('C3')))\n",
    "# print(NoteSet(scales['dorian b2'], Note('D3')))\n",
    "# print(NoteSet(scales['lydian augmented'], Note('D#3')))\n",
    "# print(NoteSet(scales['lydian dominant'], Note('F3')))\n",
    "# print(NoteSet(scales['aeolian dominant'], Note('G3')))\n",
    "# print(NoteSet(scales['half diminished'], Note('A4')))\n",
    "# print(NoteSet(scales['altered'], Note('A#4')))"
   ]
  },
  {
   "cell_type": "code",
   "execution_count": 71,
   "metadata": {},
   "outputs": [
    {
     "name": "stdout",
     "output_type": "stream",
     "text": [
      "C3  D3  D#3 F3  G3  A3  B3  \n",
      "D3  D#3 F3  G3  A3  B3  C4  \n",
      "D#3 F3  G3  A3  B3  C4  D4  \n",
      "F3  G3  A3  B3  C4  D4  D#4 \n",
      "G3  A3  B3  C4  D4  D#4 F4  \n",
      "A3  B3  C4  D4  D#4 F4  G4  \n",
      "B3  C4  D4  D#4 F4  G4  A4  \n",
      "['ionian b3', 'dorian #7']\n",
      "['dorian b2', 'phrygian #6']\n",
      "['lydian #5']\n",
      "['lydian b7', 'mixolydian #4']\n",
      "['mixolydian b6', 'aeolian #3']\n",
      "['aeolian b5', 'locrian #2']\n",
      "['locrian b4']\n"
     ]
    }
   ],
   "source": [
    "\n",
    "\n",
    "mel_minor = Scale(['1', '2', 'b3', '4', '5', '6', '7'])\n",
    "mel_minor.addAlias('ascending melodic minor')\n",
    "\n",
    "mel_minor_modes = [mel_minor.mode(i) for i in range(2, 8)]\n",
    "\n",
    "\n",
    "mel_minor_noteset = NoteSet(mel_minor, Note('C3'))\n",
    "print(mel_minor_noteset)\n",
    "for index, note in enumerate(mel_minor_noteset[1:]):\n",
    "    print(NoteSet(mel_minor_modes[index], note))\n",
    "\n",
    "mel_minor_modes.insert(0, mel_minor)\n",
    "for i in mel_minor_modes:\n",
    "    min_dist = 1000\n",
    "    chosen = None\n",
    "    for j in major_modes:\n",
    "        dist = i.distance(j)\n",
    "        if dist < min_dist:\n",
    "            chosen = [j]\n",
    "            min_dist = dist\n",
    "        elif dist == min_dist:\n",
    "            chosen.append(j)\n",
    "    # print(f\"Closest to [{i}]: {[str(i) for i in chosen]}\")\n",
    "    # print(f\"Dist: {min_dist}\")\n",
    "    names = [i.obtainRelativeName(j) for j in chosen]\n",
    "    print(names)\n",
    "    \n",
    "\n",
    "    "
   ]
  },
  {
   "cell_type": "code",
   "execution_count": 72,
   "metadata": {},
   "outputs": [
    {
     "name": "stdout",
     "output_type": "stream",
     "text": [
      "C3  D3  D#3 F3  G3  G#3 B3  \n",
      "D3  D#3 F3  G3  G#3 B3  C4  \n",
      "D#3 F3  G3  G#3 B3  C4  D4  \n",
      "F3  G3  G#3 B3  C4  D4  D#4 \n",
      "G3  G#3 B3  C4  D4  D#4 F4  \n",
      "G#3 B3  C4  D4  D#4 F4  G4  \n",
      "B3  C4  D4  D#4 F4  G4  G#4 \n",
      "Unnamed        : [0, 2, 3, 5, 7, 8, 11] : ['aeolian #7']\n",
      "Unnamed        : [0, 1, 3, 5, 6, 9, 10] : ['locrian #6']\n",
      "Unnamed        : [0, 2, 4, 5, 8, 9, 11] : ['ionian #5']\n",
      "Unnamed        : [0, 2, 3, 6, 7, 9, 10] : ['dorian #4']\n",
      "Unnamed        : [0, 1, 4, 5, 7, 8, 10] : ['phrygian #3']\n",
      "Unnamed        : [0, 3, 4, 6, 7, 9, 11] : ['lydian #2']\n",
      "Unnamed        : [0, 1, 3, 4, 6, 8, 9] : ['locrian b4 b7']\n"
     ]
    }
   ],
   "source": [
    "# scales['harmonic minor'] = [0, 2, 3, 5, 7, 8, 11]\n",
    "\n",
    "\n",
    "har_minor = Scale([0, 2, 3, 5, 7, 8, 11])\n",
    "har_minor.addAlias('melodic minor')\n",
    "\n",
    "har_minor_modes = [har_minor.mode(i) for i in range(2, 8)]\n",
    "\n",
    "har_minor_noteset = NoteSet(har_minor, Note('C3'))\n",
    "print(har_minor_noteset)\n",
    "for index, note in enumerate(har_minor_noteset[1:]):\n",
    "    print(NoteSet(har_minor_modes[index], note))\n",
    "\n",
    "har_minor_modes.insert(0, har_minor)\n",
    "for i in har_minor_modes:\n",
    "    min_dist = 1000\n",
    "    chosen = None\n",
    "    for j in major_modes:\n",
    "        dist = i.distance(j)\n",
    "        if dist < min_dist:\n",
    "            chosen = [j]\n",
    "            min_dist = dist\n",
    "        elif dist == min_dist:\n",
    "            chosen.append(j)\n",
    "    # print(f\"Closest to [{i}]: {[str(i) for i in chosen]}\")\n",
    "    # print(f\"Dist: {min_dist}\")\n",
    "    names = [i.obtainRelativeName(j) for j in chosen]\n",
    "    print(i, \":\", names)\n",
    "    \n",
    "\n",
    "    \n",
    "\n",
    "# Scale(['1', '2', 'b3', '4', '5', 'b6', '7'])\n",
    "# scales['locrian nat6'] = mode(scales['harmonic minor'], 2)\n",
    "# scales['major #5'] = mode(scales['harmonic minor'], 3)\n",
    "# scales['dorian #4'] = mode(scales['harmonic minor'], 4)\n",
    "# scales['phrygian dominant'] = mode(scales['harmonic minor'], 5)\n",
    "# scales['lydian #2'] = mode(scales['harmonic minor'], 6)\n",
    "# scales['altered dominant bb7'] = mode(scales['harmonic minor'], 7)\n",
    "# print(NoteSet(scales['harmonic minor'], Note('C3')))\n",
    "# print(NoteSet(scales['locrian nat6'], Note('D3')))\n",
    "# print(NoteSet(scales['major #5'], Note('D#3')))\n",
    "# print(NoteSet(scales['dorian #4'], Note('F3')))\n",
    "# print(NoteSet(scales['phrygian dominant'], Note('G3')))\n",
    "# print(NoteSet(scales['lydian #2'], Note('G#3')))\n",
    "# print(NoteSet(scales['altered dominant bb7'], Note('B4')))"
   ]
  },
  {
   "cell_type": "code",
   "execution_count": 72,
   "metadata": {},
   "outputs": [
    {
     "name": "stdout",
     "output_type": "stream",
     "text": [
      "C D E F G G# B\n",
      "D E F G G# B C\n",
      "E F G G# B C D\n",
      "F G G# B C D E\n",
      "G G# B C D E F\n",
      "G# B C D E F G\n",
      "B C D E F G G#\n"
     ]
    }
   ],
   "source": [
    "scales['harmonic major'] = [0, 2, 4, 5, 7, 8, 11]\n",
    "scales['dorian b5'] = mode(scales['harmonic major'], 2)\n",
    "scales['phrygian b4'] = mode(scales['harmonic major'], 3)\n",
    "scales['lydian b4'] = mode(scales['harmonic major'], 4)\n",
    "scales['mixolydian b2'] = mode(scales['harmonic major'], 5)\n",
    "scales['lydian augmented #2'] = mode(scales['harmonic major'], 6)\n",
    "scales['locrian bb7'] = mode(scales['harmonic major'], 7)\n",
    "\n",
    "\n",
    "print(NoteSet(scales['harmonic major'], Note('C3')))\n",
    "print(NoteSet(scales['dorian b5'], Note('D3')))\n",
    "print(NoteSet(scales['phrygian b4'], Note('E3')))\n",
    "print(NoteSet(scales['lydian b4'], Note('F3')))\n",
    "print(NoteSet(scales['mixolydian b2'], Note('G3')))\n",
    "print(NoteSet(scales['lydian augmented #2'], Note('G#3')))\n",
    "print(NoteSet(scales['locrian bb7'], Note('B4')))"
   ]
  },
  {
   "cell_type": "code",
   "execution_count": 57,
   "metadata": {},
   "outputs": [
    {
     "name": "stdout",
     "output_type": "stream",
     "text": [
      "C D D# F F# G# A B\n",
      "D D# F F# G# A B C\n",
      "D# F F# G# A B C D\n",
      "F F# G# A B C D D#\n",
      "F# G# A B C D D# F\n",
      "G# A B C D D# F F#\n",
      "A B C D D# F F# G#\n",
      "B C D D# F F# G# A\n"
     ]
    }
   ],
   "source": [
    "scales['diminished'] = [0, 2, 3, 5, 6, 8, 9, 11]\n",
    "scales['inverse diminished'] = mode(scales['diminished'], 2)\n",
    "\n",
    "print(NoteSet(scales['diminished'], Note('C3')))\n",
    "print(NoteSet(scales['inverse diminished'], Note('D3')))\n",
    "print(NoteSet(scales['diminished'], Note('D#3')))\n",
    "print(NoteSet(scales['inverse diminished'], Note('F3')))\n",
    "print(NoteSet(scales['diminished'], Note('F#3')))\n",
    "print(NoteSet(scales['inverse diminished'], Note('G#3')))\n",
    "print(NoteSet(scales['diminished'], Note('A4')))\n",
    "print(NoteSet(scales['inverse diminished'], Note('B4')))"
   ]
  },
  {
   "cell_type": "code",
   "execution_count": 56,
   "metadata": {},
   "outputs": [
    {
     "name": "stdout",
     "output_type": "stream",
     "text": [
      "C D# E G G# B\n",
      "D# E G G# B C\n",
      "E G G# B C D#\n",
      "G G# B C D# E\n",
      "G# B C D# E G\n",
      "B C D# E G G#\n"
     ]
    }
   ],
   "source": [
    "scales['augmented'] = [0, 3, 4, 7, 8, 11]\n",
    "scales['inverse augmented'] = mode(scales['augmented'], 2)\n",
    "\n",
    "print(NoteSet(scales['augmented'], Note('C3')))\n",
    "print(NoteSet(scales['inverse augmented'], Note('D#3')))\n",
    "print(NoteSet(scales['augmented'], Note('E3')))\n",
    "print(NoteSet(scales['inverse augmented'], Note('G3')))\n",
    "print(NoteSet(scales['augmented'], Note('G#3')))\n",
    "print(NoteSet(scales['inverse augmented'], Note('B4')))"
   ]
  },
  {
   "cell_type": "code",
   "execution_count": null,
   "metadata": {},
   "outputs": [],
   "source": []
  }
 ],
 "metadata": {
  "interpreter": {
   "hash": "01b83eca92a3535599dee38ffcdf7f6e2eead1ca6800e3c95d2ca2b871d8cd0d"
  },
  "kernelspec": {
   "display_name": "Python 3.8.5 ('.env': venv)",
   "language": "python",
   "name": "python3"
  },
  "language_info": {
   "codemirror_mode": {
    "name": "ipython",
    "version": 3
   },
   "file_extension": ".py",
   "mimetype": "text/x-python",
   "name": "python",
   "nbconvert_exporter": "python",
   "pygments_lexer": "ipython3",
   "version": "3.8.5"
  },
  "orig_nbformat": 4,
  "vscode": {
   "interpreter": {
    "hash": "053076262eca1c129e8de1f50e4cca757048d124747e0297455cf73a7ba2cced"
   }
  }
 },
 "nbformat": 4,
 "nbformat_minor": 2
}
