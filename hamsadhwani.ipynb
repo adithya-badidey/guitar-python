{
 "cells": [
  {
   "cell_type": "code",
   "execution_count": 4,
   "metadata": {},
   "outputs": [
    {
     "name": "stdout",
     "output_type": "stream",
     "text": [
      "The autoreload extension is already loaded. To reload it, use:\n",
      "  %reload_ext autoreload\n",
      " E  █     |     |     | G#  |(A)  |     | B   |     | C#  |     |     | E   |     |     |     | G#  |(A)  |\n",
      " B  █     | C#  |     |     | E   |     |     |     | G#  |(A)  |     | B   |     | C#  |     |     | E   |\n",
      "    █ G#  |(A)  |     | B   |     | C#  |     |     | E   |     |     |     | G#  |(A)  |     | B   |     |\n",
      "    █     | E   |     |     |     | G#  |(A)  |     | B   |     | C#  |     |     | E   |     |     |     |\n",
      "(A) █     | B   |     | C#  |     |     | E   |     |     |     | G#  |(A)  |     | B   |     | C#  |     |\n",
      " E  █     |     |     | G#  |(A)  |     | B   |     | C#  |     |     | E   |     |     |     | G#  |(A)  |\n",
      "                              •           •                             ••                                \n",
      "A maj: A C# E\n",
      "A maj7: A C# E G#\n",
      "\n",
      "\n",
      "C# min: C# E G#\n",
      "C# min7: C# E G# B\n",
      "\n",
      "E maj: E G# B\n",
      "\n",
      "\n"
     ]
    }
   ],
   "source": [
    "%load_ext autoreload\n",
    "%autoreload 2\n",
    "from commons import *\n",
    "\n",
    "guitar = Guitar()\n",
    "notes = [0, 2, 4, 7, 11]\n",
    "mode = NoteSet(notes, Note('A3'))\n",
    "guitar.printFretboardDiagram(mode)\n",
    "for i in range(len(mode.prog)):\n",
    "  note = mode.getRootNoteIndex()\n",
    "  for i in chords:\n",
    "    chord = NoteSet(chords[i], Note(note))\n",
    "    if chord in mode:\n",
    "      print(f\"{iton[note]} {i}: {chord}\")\n",
    "  print()\n",
    "  mode = changeRootNote(mode, 1)"
   ]
  },
  {
   "cell_type": "code",
   "execution_count": null,
   "metadata": {},
   "outputs": [],
   "source": []
  }
 ],
 "metadata": {
  "kernelspec": {
   "display_name": "Python 3.10.4 ('generative')",
   "language": "python",
   "name": "python3"
  },
  "language_info": {
   "codemirror_mode": {
    "name": "ipython",
    "version": 3
   },
   "file_extension": ".py",
   "mimetype": "text/x-python",
   "name": "python",
   "nbconvert_exporter": "python",
   "pygments_lexer": "ipython3",
   "version": "3.10.4"
  },
  "orig_nbformat": 4,
  "vscode": {
   "interpreter": {
    "hash": "913be369ae6b339899401f50a82460eb21f829d0c20e99c1dbcb6cdf8935e73f"
   }
  }
 },
 "nbformat": 4,
 "nbformat_minor": 2
}
